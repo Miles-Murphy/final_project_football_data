{
 "cells": [
  {
   "cell_type": "markdown",
   "metadata": {},
   "source": [
    "> **Tip**: Welcome to the Investigate a Dataset project! You will find tips in quoted sections like this to help organize your approach to your investigation. Before submitting your project, it will be a good idea to go back through your report and remove these sections to make the presentation of your work as tidy as possible. First things first, you might want to double-click this Markdown cell and change the title so that it reflects your dataset and investigation.\n",
    "\n",
    "# <font color=red> Project:  _A Brief Analysis of Liverpool Football Club and Steven Gerrard_\n",
    "    \n",
    "<h3 align=\"center\">A comparison of Liverpool to that of their title rivals (Chelsea and Manchester United) and a look at Fifa's evaluation of Steven Gerrard and his midfield rival Frank Lampard of Chelsea from 2007 to 2016</h3>\n",
    "\n",
    "## Table of Contents\n",
    "<ul>\n",
    "<li><a href=\"#intro\">Introduction</a></li>\n",
    "<li><a href=\"#wrangling\">Data Wrangling</a></li>\n",
    "<li><a href=\"#eda\">Exploratory Data Analysis</a></li>\n",
    "<li><a href=\"#conclusions\">Conclusions</a></li>\n",
    "</ul>"
   ]
  },
  {
   "cell_type": "markdown",
   "metadata": {},
   "source": [
    "<a id='intro'></a>\n",
    "## Introduction\n",
    "\n",
    "> **Tip**: In this section of the report, provide a brief introduction to the dataset you've selected for analysis. At the end of this section, describe the questions that you plan on exploring over the course of the report. Try to build your report around the analysis of at least one dependent variable and three independent variables.\n",
    ">\n",
    "> If you haven't yet selected and downloaded your data, make sure you do that first before coming back here. If you're not sure what questions to ask right now, then make sure you familiarize yourself with the variables and the dataset context for ideas of what to explore.\n",
    "\n",
    "\n",
    "This report will examine two aspects of Liverpool Football Club (often referred to as LFC or LIV) and one comparison related to their legendary captain Steven Gerrard over nine seasons, starting in 2007-08 and running to the 2015-2016 season. It is available thanks to Udacity and this <a href=\"https://www.kaggle.com/hugomathien/soccer\"><em>Kaggle Database</em></a>. Coicidentally, the data range available encompasses one of Liverpool's worst periods of the modern era, featuring limited team success, especially for such a historically decorated and respected English club. In fact, their only major trophy was a 2011-12 English Football League Cup (Carling Cup) victory over Cardiff Cup. \n",
    "\n",
    "This period saw five different managers take charge of LFC, starting with the twilight of one of the most prolific managers of Liverpool's modern era (<a href=\"https://en.wikipedia.org/wiki/Rafael_Ben%C3%ADtez\"><em>Rafael Benítez</em></a>) and concluding with the dawn of a future Anfield legend's time with the Reds (<a href=\"https://en.wikipedia.org/wiki/J%C3%BCrgen_Klopp\"><em>Jürgen Klopp</em></a>) in the Fall of 2015. These two bookend the horrible 7 months of <a href=\"https://en.wikipedia.org/wiki/Roy_Hodgson\"><em>Roy Hodgson</em></a>, the second attempt as manager for <a href=\"https://en.wikipedia.org/wiki/Kenny_Dalglish\"><em>Kenny Dalglish</em></a> and the somewhat improved results of <a href=\"https://en.wikipedia.org/wiki/Brendan_Rodgers\"><em>Brendan Rodgers</em></a>. Dalglish captured one domestic cup victory and Rodgers had near success in winning the English Premier League(EPL). \n",
    "\n",
    "It is hard to not speak of this time period without a negative bias. Fans watched a European Champions League winning squad flounder, held together by Steven Gerrard alone for several years, until a combination of new owner's and Jurgen Klopp righted the ship. Though, how did the club really perform compared to its title rivals? Was it their style of play, their players, or something less tangible? Lastly, was Steven Gearrard rated better or worse than Frank Lampard based on FIFA's data? This report will aim to provide those comparisons in a clear, digestible manner. \n",
    "\n",
    "<br><div align=\"center\">Regardless of the results, all you Reds know how to walk on!</div></br> <img src=\"liverpool-fc.jpg\"\n",
    "alt=\"Liverpool Logo\"\n",
    "width=\"200px\" height=\"200px\" style=\"float\"/>"
   ]
  },
  {
   "cell_type": "code",
   "execution_count": 14,
   "metadata": {},
   "outputs": [],
   "source": [
    "# Use this cell to set up import statements for all of the packages that you\n",
    "#   plan to use.\n",
    "\n",
    "# Remember to include a 'magic word' so that your visualizations are plotted\n",
    "#   inline with the notebook. See this page for more:\n",
    "#   http://ipython.readthedocs.io/en/stable/interactive/magics.html\n",
    "\n",
    "import pandas as pd\n",
    "import numpy as np\n",
    "import matplotlib.pyplot as plt\n",
    "import seaborn as sns\n",
    "import datetime as dt\n",
    "from textwrap import wrap \n",
    "%matplotlib inline\n",
    "\n",
    "\n",
    "\n"
   ]
  },
  {
   "cell_type": "markdown",
   "metadata": {},
   "source": [
    "<a id='wrangling'></a>\n",
    "## Data Wrangling\n",
    "\n",
    "> **Tip**: In this section of the report, you will load in the data, check for cleanliness, and then trim and clean your dataset for analysis. Make sure that you document your steps carefully and justify your cleaning decisions.\n",
    "\n",
    "### General Properties"
   ]
  },
  {
   "cell_type": "code",
   "execution_count": 15,
   "metadata": {},
   "outputs": [],
   "source": [
    "# Load your data and print out a few lines. Perform operations to inspect data\n",
    "#   types and look for instances of missing or possibly errant data.\n",
    "gerrard_data = pd.read_csv('gerrard_attributes.csv')\n",
    "lampard_data = pd.read_csv('lampard_attributes.csv')\n",
    "all_man_u_matches = pd.read_csv('man_u_matches.csv')\n",
    "all_chel_matches = pd.read_csv('chelsea_matches.csv')\n",
    "all_liv_matches = pd.read_csv('liverpool_matches.csv')"
   ]
  },
  {
   "cell_type": "markdown",
   "metadata": {},
   "source": [
    "For the analysis of this giant football database, 5 datasets were collected from the larger kaggle database using SQLite. This was done to focus on the specific questions being posed and to efficiently slim the datasets, as there were almost 300 teams, nearly 26,000 matches and over 11,000 players in the database. Unfortunately, despite the large amount of data available, the database did not appear to include the necessary columns/keys to connect the match/team data to the player data (or at least not easily). That limits the ability to answer some questions which could have been posed regarding coorelations regarding the caliber of the player and their respective clubs performance. \n",
    "\n",
    "Match data and player data was selected based on the individual teams and players of interest, rather than selected simultaneously. This means that more data must be read into dataframes and analyzed in the notebook, but ultimately made it much easier to initially wrangle, clean, and explore the data. Also, the initial data was collected from the database with far more information than was ultimately used in the analysis. \n",
    "\n",
    "Let's first look at some basic information related to the two types of datafields which are being analyzed. "
   ]
  },
  {
   "cell_type": "code",
   "execution_count": 16,
   "metadata": {},
   "outputs": [
    {
     "name": "stdout",
     "output_type": "stream",
     "text": [
      "(36, 49)\n",
      "(304, 7)\n"
     ]
    }
   ],
   "source": [
    "print(gerrard_data.shape)\n",
    "print(all_liv_matches.shape)"
   ]
  },
  {
   "cell_type": "code",
   "execution_count": 17,
   "metadata": {
    "scrolled": true
   },
   "outputs": [
    {
     "name": "stdout",
     "output_type": "stream",
     "text": [
      "<class 'pandas.core.frame.DataFrame'>\n",
      "RangeIndex: 36 entries, 0 to 35\n",
      "Data columns (total 49 columns):\n",
      " #   Column                Non-Null Count  Dtype  \n",
      "---  ------                --------------  -----  \n",
      " 0   id                    36 non-null     int64  \n",
      " 1   player_api_id         36 non-null     int64  \n",
      " 2   player_name           36 non-null     object \n",
      " 3   player_fifa_api_id    36 non-null     int64  \n",
      " 4   birthday              36 non-null     object \n",
      " 5   height                36 non-null     float64\n",
      " 6   weight                36 non-null     int64  \n",
      " 7   id.1                  36 non-null     int64  \n",
      " 8   player_fifa_api_id.1  36 non-null     int64  \n",
      " 9   player_api_id.1       36 non-null     int64  \n",
      " 10  date                  36 non-null     object \n",
      " 11  overall_rating        36 non-null     int64  \n",
      " 12  potential             36 non-null     int64  \n",
      " 13  preferred_foot        36 non-null     object \n",
      " 14  attacking_work_rate   36 non-null     object \n",
      " 15  defensive_work_rate   36 non-null     object \n",
      " 16  crossing              36 non-null     int64  \n",
      " 17  finishing             36 non-null     int64  \n",
      " 18  heading_accuracy      36 non-null     int64  \n",
      " 19  short_passing         36 non-null     int64  \n",
      " 20  volleys               36 non-null     int64  \n",
      " 21  dribbling             36 non-null     int64  \n",
      " 22  curve                 36 non-null     int64  \n",
      " 23  free_kick_accuracy    36 non-null     int64  \n",
      " 24  long_passing          36 non-null     int64  \n",
      " 25  ball_control          36 non-null     int64  \n",
      " 26  acceleration          36 non-null     int64  \n",
      " 27  sprint_speed          36 non-null     int64  \n",
      " 28  agility               36 non-null     int64  \n",
      " 29  reactions             36 non-null     int64  \n",
      " 30  balance               36 non-null     int64  \n",
      " 31  shot_power            36 non-null     int64  \n",
      " 32  jumping               36 non-null     int64  \n",
      " 33  stamina               36 non-null     int64  \n",
      " 34  strength              36 non-null     int64  \n",
      " 35  long_shots            36 non-null     int64  \n",
      " 36  aggression            36 non-null     int64  \n",
      " 37  interceptions         36 non-null     int64  \n",
      " 38  positioning           36 non-null     int64  \n",
      " 39  vision                36 non-null     int64  \n",
      " 40  penalties             36 non-null     int64  \n",
      " 41  marking               36 non-null     int64  \n",
      " 42  standing_tackle       36 non-null     int64  \n",
      " 43  sliding_tackle        36 non-null     int64  \n",
      " 44  gk_diving             36 non-null     int64  \n",
      " 45  gk_handling           36 non-null     int64  \n",
      " 46  gk_kicking            36 non-null     int64  \n",
      " 47  gk_positioning        36 non-null     int64  \n",
      " 48  gk_reflexes           36 non-null     int64  \n",
      "dtypes: float64(1), int64(42), object(6)\n",
      "memory usage: 13.9+ KB\n"
     ]
    }
   ],
   "source": [
    "gerrard_data.info()"
   ]
  },
  {
   "cell_type": "code",
   "execution_count": 18,
   "metadata": {},
   "outputs": [
    {
     "name": "stdout",
     "output_type": "stream",
     "text": [
      "<class 'pandas.core.frame.DataFrame'>\n",
      "RangeIndex: 304 entries, 0 to 303\n",
      "Data columns (total 7 columns):\n",
      " #   Column            Non-Null Count  Dtype \n",
      "---  ------            --------------  ----- \n",
      " 0   home_team_goal    304 non-null    int64 \n",
      " 1   away_team_goal    304 non-null    int64 \n",
      " 2   away_team_api_id  304 non-null    int64 \n",
      " 3   home_team_api_id  304 non-null    int64 \n",
      " 4   home_team         304 non-null    object\n",
      " 5   season            304 non-null    object\n",
      " 6   date              304 non-null    object\n",
      "dtypes: int64(4), object(3)\n",
      "memory usage: 16.8+ KB\n"
     ]
    }
   ],
   "source": [
    "all_liv_matches.info()"
   ]
  },
  {
   "cell_type": "markdown",
   "metadata": {},
   "source": [
    "From this information you learn two important facts about the data: \n",
    "1. The dataframes have the shape of 36x49 for player data and 304x7 for team match data\n",
    "2. The dataframes do not have any null values. This also holds true to the three other similar datasets from the other players/teams that were not used as examples. \n",
    "3. It should be noted that the column '_home_team_' in the team datasets was created with a SQL query to display the home team for each match. \n",
    "\n",
    "This allows the wrangling phase to focus more on what data is needed to answer the questions posed, as opposed to how to fill in the blanks or drop columns due to insufficent data. \n",
    "\n",
    "Though, speaking of dropping columns, the player data for the Gerrard and Lampard datasets were not pulled from the database with a clear idea of the question which was going to be asked. \n",
    "``` mysql\n",
    "SELECT *\n",
    "FROM player as p\n",
    "JOIN player_attributes as pa\n",
    "ON p.player_api_id = pa.player_api_id\n",
    "WHERE p.player_api_id = (relevant ID nubmer for Gerrard or Lampard)\n",
    "```\n",
    "As a result, the datasets have 49 columns, most of which are not relevant to the chosen analysis. These columns could have been dropped, \n",
    "``` python\n",
    "gerrard_data.drop(['crossing', 'short_passing','gk_reflexes'...])\n",
    "```\n",
    "but it was more efficient to ignore the excess and create new dataframes focused on the information which may actually be used. \n",
    "\n",
    "The match/team datasets did not require any wrangling, as there were no nulls and the columns were selected from the dataset with a specific question in mind, but they did have a lot of cleaning ahead of them to help answer the question being posed. "
   ]
  },
  {
   "cell_type": "markdown",
   "metadata": {},
   "source": [
    "> **Tip**: You should _not_ perform too many operations in each cell. Create cells freely to explore your data. One option that you can take with this project is to do a lot of explorations in an initial notebook. These don't have to be organized, but make sure you use enough comments to understand the purpose of each code cell. Then, after you're done with your analysis, create a duplicate notebook where you will trim the excess and organize your steps so that you have a flowing, cohesive report.\n",
    "\n",
    "> **Tip**: Make sure that you keep your reader informed on the steps that you are taking in your investigation. Follow every code cell, or every set of related code cells, with a markdown cell to describe to the reader what was found in the preceding cell(s). Try to make it so that the reader can then understand what they will be seeing in the following cell(s).\n",
    "\n",
    "### Data Cleaning (Replace this with more specific notes!)"
   ]
  },
  {
   "cell_type": "code",
   "execution_count": 19,
   "metadata": {},
   "outputs": [],
   "source": [
    "# After discussing the structure of the data and any problems that need to be\n",
    "#   cleaned, perform those cleaning steps in the second part of this section.\n"
   ]
  },
  {
   "cell_type": "markdown",
   "metadata": {},
   "source": [
    "#### Player dataset cleaning"
   ]
  },
  {
   "cell_type": "markdown",
   "metadata": {},
   "source": [
    "The cleaning on the player datasets took place in two steps:\n",
    "\n",
    "1. Adjust the date element to a datetime value\n",
    "2. Create the smaller df for each player which contains only the relevant data\n",
    "\n",
    "\n",
    "Here is step one:"
   ]
  },
  {
   "cell_type": "code",
   "execution_count": 20,
   "metadata": {},
   "outputs": [],
   "source": [
    "gerrard_data['date'] = pd.to_datetime(gerrard_data['date'], errors='coerce')\n",
    "lampard_data['date'] = pd.to_datetime(lampard_data['date'], errors='coerce')"
   ]
  },
  {
   "cell_type": "markdown",
   "metadata": {},
   "source": [
    "_The coercing of errors is to force-clean the data as it is converted using Datetime package._\n",
    "\n",
    "And here is step two:"
   ]
  },
  {
   "cell_type": "code",
   "execution_count": 21,
   "metadata": {},
   "outputs": [],
   "source": [
    "gerrard_avg = gerrard_data.groupby([gerrard_data['date'].dt.year])[['overall_rating', 'potential']].mean()\n",
    "lampard_avg = lampard_data.groupby([lampard_data['date'].dt.year])[['overall_rating', 'potential']].mean()"
   ]
  },
  {
   "cell_type": "markdown",
   "metadata": {},
   "source": [
    "Step two first grouped the data by year based on the '_date_' column and then provided the mean (average) of the '_overall_rating_' and '_potential_' columns for the new dataframes. The two, new player dataframes have been created and are ready to be used in the analysis."
   ]
  },
  {
   "cell_type": "markdown",
   "metadata": {},
   "source": [
    "#### Match/team dataset cleaning"
   ]
  },
  {
   "cell_type": "markdown",
   "metadata": {},
   "source": [
    "Now, the more intensive data cleaning begins. The match/team data for Liverpool, Chelsea, and Manchester United provided a lot of information, but did not include some very data required to answer the question being posed. Almost shockingly, despite including the number of home and away goals in each match, the database did not indicate which team won each game. So, data was pulled form the database which would hopefully be able to be cleaned and analyzed to provide the desired insights.\n",
    "\n",
    "1. As previously indicated, the database did not have data related to the result (Win, loss, draw/tie) or who won/lost. The first step towards creating this data involved creating a new column which displayed the goal difference of each game"
   ]
  },
  {
   "cell_type": "code",
   "execution_count": 22,
   "metadata": {},
   "outputs": [
    {
     "data": {
      "text/html": [
       "<div>\n",
       "<style scoped>\n",
       "    .dataframe tbody tr th:only-of-type {\n",
       "        vertical-align: middle;\n",
       "    }\n",
       "\n",
       "    .dataframe tbody tr th {\n",
       "        vertical-align: top;\n",
       "    }\n",
       "\n",
       "    .dataframe thead th {\n",
       "        text-align: right;\n",
       "    }\n",
       "</style>\n",
       "<table border=\"1\" class=\"dataframe\">\n",
       "  <thead>\n",
       "    <tr style=\"text-align: right;\">\n",
       "      <th></th>\n",
       "      <th>home_team_goal</th>\n",
       "      <th>away_team_goal</th>\n",
       "      <th>away_team_api_id</th>\n",
       "      <th>home_team_api_id</th>\n",
       "      <th>home_team</th>\n",
       "      <th>season</th>\n",
       "      <th>date</th>\n",
       "      <th>goal_difference</th>\n",
       "    </tr>\n",
       "  </thead>\n",
       "  <tbody>\n",
       "    <tr>\n",
       "      <th>0</th>\n",
       "      <td>0</td>\n",
       "      <td>1</td>\n",
       "      <td>8650</td>\n",
       "      <td>8472</td>\n",
       "      <td>Sunderland</td>\n",
       "      <td>2008/2009</td>\n",
       "      <td>2008-08-16 00:00:00</td>\n",
       "      <td>-1</td>\n",
       "    </tr>\n",
       "    <tr>\n",
       "      <th>1</th>\n",
       "      <td>1</td>\n",
       "      <td>0</td>\n",
       "      <td>8462</td>\n",
       "      <td>8650</td>\n",
       "      <td>Liverpool</td>\n",
       "      <td>2008/2009</td>\n",
       "      <td>2008-10-29 00:00:00</td>\n",
       "      <td>1</td>\n",
       "    </tr>\n",
       "    <tr>\n",
       "      <th>2</th>\n",
       "      <td>2</td>\n",
       "      <td>1</td>\n",
       "      <td>8650</td>\n",
       "      <td>8586</td>\n",
       "      <td>Tottenham Hotspur</td>\n",
       "      <td>2008/2009</td>\n",
       "      <td>2008-11-01 00:00:00</td>\n",
       "      <td>1</td>\n",
       "    </tr>\n",
       "    <tr>\n",
       "      <th>3</th>\n",
       "      <td>3</td>\n",
       "      <td>0</td>\n",
       "      <td>8659</td>\n",
       "      <td>8650</td>\n",
       "      <td>Liverpool</td>\n",
       "      <td>2008/2009</td>\n",
       "      <td>2008-11-08 00:00:00</td>\n",
       "      <td>3</td>\n",
       "    </tr>\n",
       "    <tr>\n",
       "      <th>4</th>\n",
       "      <td>0</td>\n",
       "      <td>2</td>\n",
       "      <td>8650</td>\n",
       "      <td>8559</td>\n",
       "      <td>Bolton Wanderers</td>\n",
       "      <td>2008/2009</td>\n",
       "      <td>2008-11-15 00:00:00</td>\n",
       "      <td>-2</td>\n",
       "    </tr>\n",
       "  </tbody>\n",
       "</table>\n",
       "</div>"
      ],
      "text/plain": [
       "   home_team_goal  away_team_goal  away_team_api_id  home_team_api_id  \\\n",
       "0               0               1              8650              8472   \n",
       "1               1               0              8462              8650   \n",
       "2               2               1              8650              8586   \n",
       "3               3               0              8659              8650   \n",
       "4               0               2              8650              8559   \n",
       "\n",
       "           home_team     season                 date  goal_difference  \n",
       "0         Sunderland  2008/2009  2008-08-16 00:00:00               -1  \n",
       "1          Liverpool  2008/2009  2008-10-29 00:00:00                1  \n",
       "2  Tottenham Hotspur  2008/2009  2008-11-01 00:00:00                1  \n",
       "3          Liverpool  2008/2009  2008-11-08 00:00:00                3  \n",
       "4   Bolton Wanderers  2008/2009  2008-11-15 00:00:00               -2  "
      ]
     },
     "execution_count": 22,
     "metadata": {},
     "output_type": "execute_result"
    }
   ],
   "source": [
    "all_liv_matches['goal_difference'] = all_liv_matches['home_team_goal'] - all_liv_matches['away_team_goal']\n",
    "all_liv_matches.head()"
   ]
  },
  {
   "cell_type": "code",
   "execution_count": 23,
   "metadata": {},
   "outputs": [],
   "source": [
    "all_chel_matches['goal_difference'] = all_chel_matches['home_team_goal'] - all_chel_matches['away_team_goal']\n",
    "all_man_u_matches['goal_difference'] = all_man_u_matches['home_team_goal'] - all_man_u_matches['away_team_goal']"
   ]
  },
  {
   "cell_type": "markdown",
   "metadata": {},
   "source": [
    "Great, the a column now displays the difference in goals of each match. However, this information is only useful if we were only loooking at home matches where a positive goal difference always meant a win. That is not the case with this data, so both home and away matches need to be addressed. \n",
    "\n",
    "First, let's create two new dataframes of the same data, except one will feature only home matches and the other away matches."
   ]
  },
  {
   "cell_type": "code",
   "execution_count": 40,
   "metadata": {
    "scrolled": true
   },
   "outputs": [
    {
     "data": {
      "text/html": [
       "<div>\n",
       "<style scoped>\n",
       "    .dataframe tbody tr th:only-of-type {\n",
       "        vertical-align: middle;\n",
       "    }\n",
       "\n",
       "    .dataframe tbody tr th {\n",
       "        vertical-align: top;\n",
       "    }\n",
       "\n",
       "    .dataframe thead th {\n",
       "        text-align: right;\n",
       "    }\n",
       "</style>\n",
       "<table border=\"1\" class=\"dataframe\">\n",
       "  <thead>\n",
       "    <tr style=\"text-align: right;\">\n",
       "      <th></th>\n",
       "      <th>index</th>\n",
       "      <th>home_team_goal</th>\n",
       "      <th>away_team_goal</th>\n",
       "      <th>away_team_api_id</th>\n",
       "      <th>home_team_api_id</th>\n",
       "      <th>home_team</th>\n",
       "      <th>season</th>\n",
       "      <th>date</th>\n",
       "      <th>goal_difference</th>\n",
       "    </tr>\n",
       "  </thead>\n",
       "  <tbody>\n",
       "    <tr>\n",
       "      <th>0</th>\n",
       "      <td>1</td>\n",
       "      <td>1</td>\n",
       "      <td>0</td>\n",
       "      <td>8462</td>\n",
       "      <td>8650</td>\n",
       "      <td>Liverpool</td>\n",
       "      <td>2008/2009</td>\n",
       "      <td>2008-10-29 00:00:00</td>\n",
       "      <td>1</td>\n",
       "    </tr>\n",
       "    <tr>\n",
       "      <th>1</th>\n",
       "      <td>3</td>\n",
       "      <td>3</td>\n",
       "      <td>0</td>\n",
       "      <td>8659</td>\n",
       "      <td>8650</td>\n",
       "      <td>Liverpool</td>\n",
       "      <td>2008/2009</td>\n",
       "      <td>2008-11-08 00:00:00</td>\n",
       "      <td>3</td>\n",
       "    </tr>\n",
       "    <tr>\n",
       "      <th>2</th>\n",
       "      <td>5</td>\n",
       "      <td>0</td>\n",
       "      <td>0</td>\n",
       "      <td>9879</td>\n",
       "      <td>8650</td>\n",
       "      <td>Liverpool</td>\n",
       "      <td>2008/2009</td>\n",
       "      <td>2008-11-22 00:00:00</td>\n",
       "      <td>0</td>\n",
       "    </tr>\n",
       "    <tr>\n",
       "      <th>3</th>\n",
       "      <td>6</td>\n",
       "      <td>0</td>\n",
       "      <td>0</td>\n",
       "      <td>8654</td>\n",
       "      <td>8650</td>\n",
       "      <td>Liverpool</td>\n",
       "      <td>2008/2009</td>\n",
       "      <td>2008-12-01 00:00:00</td>\n",
       "      <td>0</td>\n",
       "    </tr>\n",
       "    <tr>\n",
       "      <th>4</th>\n",
       "      <td>8</td>\n",
       "      <td>2</td>\n",
       "      <td>2</td>\n",
       "      <td>8667</td>\n",
       "      <td>8650</td>\n",
       "      <td>Liverpool</td>\n",
       "      <td>2008/2009</td>\n",
       "      <td>2008-12-13 00:00:00</td>\n",
       "      <td>0</td>\n",
       "    </tr>\n",
       "  </tbody>\n",
       "</table>\n",
       "</div>"
      ],
      "text/plain": [
       "   index  home_team_goal  away_team_goal  away_team_api_id  home_team_api_id  \\\n",
       "0      1               1               0              8462              8650   \n",
       "1      3               3               0              8659              8650   \n",
       "2      5               0               0              9879              8650   \n",
       "3      6               0               0              8654              8650   \n",
       "4      8               2               2              8667              8650   \n",
       "\n",
       "   home_team     season                 date  goal_difference  \n",
       "0  Liverpool  2008/2009  2008-10-29 00:00:00                1  \n",
       "1  Liverpool  2008/2009  2008-11-08 00:00:00                3  \n",
       "2  Liverpool  2008/2009  2008-11-22 00:00:00                0  \n",
       "3  Liverpool  2008/2009  2008-12-01 00:00:00                0  \n",
       "4  Liverpool  2008/2009  2008-12-13 00:00:00                0  "
      ]
     },
     "execution_count": 40,
     "metadata": {},
     "output_type": "execute_result"
    }
   ],
   "source": [
    "l_home_games = all_liv_matches[all_liv_matches['home_team'] == \"Liverpool\"].reset_index()\n",
    "l_home_games.head()"
   ]
  },
  {
   "cell_type": "code",
   "execution_count": 41,
   "metadata": {},
   "outputs": [],
   "source": [
    "m_home_games = all_man_u_matches[all_man_u_matches['home_team'] == \"Manchester United\"].reset_index()\n",
    "c_home_games = all_chel_matches[all_chel_matches['home_team'] == \"Chelsea\"].reset_index()"
   ]
  },
  {
   "cell_type": "code",
   "execution_count": 42,
   "metadata": {},
   "outputs": [
    {
     "data": {
      "text/html": [
       "<div>\n",
       "<style scoped>\n",
       "    .dataframe tbody tr th:only-of-type {\n",
       "        vertical-align: middle;\n",
       "    }\n",
       "\n",
       "    .dataframe tbody tr th {\n",
       "        vertical-align: top;\n",
       "    }\n",
       "\n",
       "    .dataframe thead th {\n",
       "        text-align: right;\n",
       "    }\n",
       "</style>\n",
       "<table border=\"1\" class=\"dataframe\">\n",
       "  <thead>\n",
       "    <tr style=\"text-align: right;\">\n",
       "      <th></th>\n",
       "      <th>index</th>\n",
       "      <th>home_team_goal</th>\n",
       "      <th>away_team_goal</th>\n",
       "      <th>away_team_api_id</th>\n",
       "      <th>home_team_api_id</th>\n",
       "      <th>home_team</th>\n",
       "      <th>season</th>\n",
       "      <th>date</th>\n",
       "      <th>goal_difference</th>\n",
       "    </tr>\n",
       "  </thead>\n",
       "  <tbody>\n",
       "    <tr>\n",
       "      <th>0</th>\n",
       "      <td>0</td>\n",
       "      <td>0</td>\n",
       "      <td>1</td>\n",
       "      <td>8650</td>\n",
       "      <td>8472</td>\n",
       "      <td>Sunderland</td>\n",
       "      <td>2008/2009</td>\n",
       "      <td>2008-08-16 00:00:00</td>\n",
       "      <td>-1</td>\n",
       "    </tr>\n",
       "    <tr>\n",
       "      <th>1</th>\n",
       "      <td>2</td>\n",
       "      <td>2</td>\n",
       "      <td>1</td>\n",
       "      <td>8650</td>\n",
       "      <td>8586</td>\n",
       "      <td>Tottenham Hotspur</td>\n",
       "      <td>2008/2009</td>\n",
       "      <td>2008-11-01 00:00:00</td>\n",
       "      <td>1</td>\n",
       "    </tr>\n",
       "    <tr>\n",
       "      <th>2</th>\n",
       "      <td>4</td>\n",
       "      <td>0</td>\n",
       "      <td>2</td>\n",
       "      <td>8650</td>\n",
       "      <td>8559</td>\n",
       "      <td>Bolton Wanderers</td>\n",
       "      <td>2008/2009</td>\n",
       "      <td>2008-11-15 00:00:00</td>\n",
       "      <td>-2</td>\n",
       "    </tr>\n",
       "    <tr>\n",
       "      <th>3</th>\n",
       "      <td>7</td>\n",
       "      <td>1</td>\n",
       "      <td>3</td>\n",
       "      <td>8650</td>\n",
       "      <td>8655</td>\n",
       "      <td>Blackburn Rovers</td>\n",
       "      <td>2008/2009</td>\n",
       "      <td>2008-12-06 00:00:00</td>\n",
       "      <td>-2</td>\n",
       "    </tr>\n",
       "    <tr>\n",
       "      <th>4</th>\n",
       "      <td>9</td>\n",
       "      <td>1</td>\n",
       "      <td>1</td>\n",
       "      <td>8650</td>\n",
       "      <td>9825</td>\n",
       "      <td>Arsenal</td>\n",
       "      <td>2008/2009</td>\n",
       "      <td>2008-12-21 00:00:00</td>\n",
       "      <td>0</td>\n",
       "    </tr>\n",
       "  </tbody>\n",
       "</table>\n",
       "</div>"
      ],
      "text/plain": [
       "   index  home_team_goal  away_team_goal  away_team_api_id  home_team_api_id  \\\n",
       "0      0               0               1              8650              8472   \n",
       "1      2               2               1              8650              8586   \n",
       "2      4               0               2              8650              8559   \n",
       "3      7               1               3              8650              8655   \n",
       "4      9               1               1              8650              9825   \n",
       "\n",
       "           home_team     season                 date  goal_difference  \n",
       "0         Sunderland  2008/2009  2008-08-16 00:00:00               -1  \n",
       "1  Tottenham Hotspur  2008/2009  2008-11-01 00:00:00                1  \n",
       "2   Bolton Wanderers  2008/2009  2008-11-15 00:00:00               -2  \n",
       "3   Blackburn Rovers  2008/2009  2008-12-06 00:00:00               -2  \n",
       "4            Arsenal  2008/2009  2008-12-21 00:00:00                0  "
      ]
     },
     "execution_count": 42,
     "metadata": {},
     "output_type": "execute_result"
    }
   ],
   "source": [
    "l_away_games = all_liv_matches[all_liv_matches['home_team'] != \"Liverpool\"].reset_index()\n",
    "l_away_games.head()"
   ]
  },
  {
   "cell_type": "code",
   "execution_count": 43,
   "metadata": {},
   "outputs": [],
   "source": [
    "c_away_games = all_chel_matches[all_chel_matches['home_team'] != \"Chelsea\"].reset_index()\n",
    "m_away_games = all_man_u_matches[all_man_u_matches['home_team'] != \"Manchester United\"].reset_index()"
   ]
  },
  {
   "cell_type": "markdown",
   "metadata": {},
   "source": [
    "Great! The matches have been divided into home and away dataframes. However, there is still no answer as to whether the goal difference indidcates a win or not. Thankfully, two simple _for loops_ can help provide this information. \n",
    "\n",
    "Step 2: Iterate over the _goal_difference_ column, determine the result based on the difference (based on whether the subject team is away or home), and append that information to a new column"
   ]
  },
  {
   "cell_type": "code",
   "execution_count": 44,
   "metadata": {},
   "outputs": [
    {
     "data": {
      "text/html": [
       "<div>\n",
       "<style scoped>\n",
       "    .dataframe tbody tr th:only-of-type {\n",
       "        vertical-align: middle;\n",
       "    }\n",
       "\n",
       "    .dataframe tbody tr th {\n",
       "        vertical-align: top;\n",
       "    }\n",
       "\n",
       "    .dataframe thead th {\n",
       "        text-align: right;\n",
       "    }\n",
       "</style>\n",
       "<table border=\"1\" class=\"dataframe\">\n",
       "  <thead>\n",
       "    <tr style=\"text-align: right;\">\n",
       "      <th></th>\n",
       "      <th>index</th>\n",
       "      <th>home_team_goal</th>\n",
       "      <th>away_team_goal</th>\n",
       "      <th>away_team_api_id</th>\n",
       "      <th>home_team_api_id</th>\n",
       "      <th>home_team</th>\n",
       "      <th>season</th>\n",
       "      <th>date</th>\n",
       "      <th>goal_difference</th>\n",
       "      <th>result</th>\n",
       "    </tr>\n",
       "  </thead>\n",
       "  <tbody>\n",
       "    <tr>\n",
       "      <th>0</th>\n",
       "      <td>1</td>\n",
       "      <td>1</td>\n",
       "      <td>0</td>\n",
       "      <td>8462</td>\n",
       "      <td>8650</td>\n",
       "      <td>Liverpool</td>\n",
       "      <td>2008/2009</td>\n",
       "      <td>2008-10-29 00:00:00</td>\n",
       "      <td>1</td>\n",
       "      <td>W</td>\n",
       "    </tr>\n",
       "    <tr>\n",
       "      <th>1</th>\n",
       "      <td>3</td>\n",
       "      <td>3</td>\n",
       "      <td>0</td>\n",
       "      <td>8659</td>\n",
       "      <td>8650</td>\n",
       "      <td>Liverpool</td>\n",
       "      <td>2008/2009</td>\n",
       "      <td>2008-11-08 00:00:00</td>\n",
       "      <td>3</td>\n",
       "      <td>W</td>\n",
       "    </tr>\n",
       "    <tr>\n",
       "      <th>2</th>\n",
       "      <td>5</td>\n",
       "      <td>0</td>\n",
       "      <td>0</td>\n",
       "      <td>9879</td>\n",
       "      <td>8650</td>\n",
       "      <td>Liverpool</td>\n",
       "      <td>2008/2009</td>\n",
       "      <td>2008-11-22 00:00:00</td>\n",
       "      <td>0</td>\n",
       "      <td>D/T</td>\n",
       "    </tr>\n",
       "    <tr>\n",
       "      <th>3</th>\n",
       "      <td>6</td>\n",
       "      <td>0</td>\n",
       "      <td>0</td>\n",
       "      <td>8654</td>\n",
       "      <td>8650</td>\n",
       "      <td>Liverpool</td>\n",
       "      <td>2008/2009</td>\n",
       "      <td>2008-12-01 00:00:00</td>\n",
       "      <td>0</td>\n",
       "      <td>D/T</td>\n",
       "    </tr>\n",
       "    <tr>\n",
       "      <th>4</th>\n",
       "      <td>8</td>\n",
       "      <td>2</td>\n",
       "      <td>2</td>\n",
       "      <td>8667</td>\n",
       "      <td>8650</td>\n",
       "      <td>Liverpool</td>\n",
       "      <td>2008/2009</td>\n",
       "      <td>2008-12-13 00:00:00</td>\n",
       "      <td>0</td>\n",
       "      <td>D/T</td>\n",
       "    </tr>\n",
       "  </tbody>\n",
       "</table>\n",
       "</div>"
      ],
      "text/plain": [
       "   index  home_team_goal  away_team_goal  away_team_api_id  home_team_api_id  \\\n",
       "0      1               1               0              8462              8650   \n",
       "1      3               3               0              8659              8650   \n",
       "2      5               0               0              9879              8650   \n",
       "3      6               0               0              8654              8650   \n",
       "4      8               2               2              8667              8650   \n",
       "\n",
       "   home_team     season                 date  goal_difference result  \n",
       "0  Liverpool  2008/2009  2008-10-29 00:00:00                1      W  \n",
       "1  Liverpool  2008/2009  2008-11-08 00:00:00                3      W  \n",
       "2  Liverpool  2008/2009  2008-11-22 00:00:00                0    D/T  \n",
       "3  Liverpool  2008/2009  2008-12-01 00:00:00                0    D/T  \n",
       "4  Liverpool  2008/2009  2008-12-13 00:00:00                0    D/T  "
      ]
     },
     "execution_count": 44,
     "metadata": {},
     "output_type": "execute_result"
    }
   ],
   "source": [
    "l_h_result = []\n",
    "\n",
    "for gd in l_home_games['goal_difference']:\n",
    "    if gd > 0:\n",
    "        l_h_result.append('W')\n",
    "    elif gd < 0:\n",
    "        l_h_result.append('L')\n",
    "    elif gd == 0:\n",
    "        l_h_result.append('D/T')\n",
    "\n",
    "l_home_games['result'] = l_h_result\n",
    "l_home_games.head()"
   ]
  },
  {
   "cell_type": "code",
   "execution_count": 45,
   "metadata": {},
   "outputs": [
    {
     "data": {
      "text/html": [
       "<div>\n",
       "<style scoped>\n",
       "    .dataframe tbody tr th:only-of-type {\n",
       "        vertical-align: middle;\n",
       "    }\n",
       "\n",
       "    .dataframe tbody tr th {\n",
       "        vertical-align: top;\n",
       "    }\n",
       "\n",
       "    .dataframe thead th {\n",
       "        text-align: right;\n",
       "    }\n",
       "</style>\n",
       "<table border=\"1\" class=\"dataframe\">\n",
       "  <thead>\n",
       "    <tr style=\"text-align: right;\">\n",
       "      <th></th>\n",
       "      <th>index</th>\n",
       "      <th>home_team_goal</th>\n",
       "      <th>away_team_goal</th>\n",
       "      <th>away_team_api_id</th>\n",
       "      <th>home_team_api_id</th>\n",
       "      <th>home_team</th>\n",
       "      <th>season</th>\n",
       "      <th>date</th>\n",
       "      <th>goal_difference</th>\n",
       "      <th>result</th>\n",
       "    </tr>\n",
       "  </thead>\n",
       "  <tbody>\n",
       "    <tr>\n",
       "      <th>0</th>\n",
       "      <td>0</td>\n",
       "      <td>0</td>\n",
       "      <td>1</td>\n",
       "      <td>8650</td>\n",
       "      <td>8472</td>\n",
       "      <td>Sunderland</td>\n",
       "      <td>2008/2009</td>\n",
       "      <td>2008-08-16 00:00:00</td>\n",
       "      <td>-1</td>\n",
       "      <td>W</td>\n",
       "    </tr>\n",
       "    <tr>\n",
       "      <th>1</th>\n",
       "      <td>2</td>\n",
       "      <td>2</td>\n",
       "      <td>1</td>\n",
       "      <td>8650</td>\n",
       "      <td>8586</td>\n",
       "      <td>Tottenham Hotspur</td>\n",
       "      <td>2008/2009</td>\n",
       "      <td>2008-11-01 00:00:00</td>\n",
       "      <td>1</td>\n",
       "      <td>L</td>\n",
       "    </tr>\n",
       "    <tr>\n",
       "      <th>2</th>\n",
       "      <td>4</td>\n",
       "      <td>0</td>\n",
       "      <td>2</td>\n",
       "      <td>8650</td>\n",
       "      <td>8559</td>\n",
       "      <td>Bolton Wanderers</td>\n",
       "      <td>2008/2009</td>\n",
       "      <td>2008-11-15 00:00:00</td>\n",
       "      <td>-2</td>\n",
       "      <td>W</td>\n",
       "    </tr>\n",
       "    <tr>\n",
       "      <th>3</th>\n",
       "      <td>7</td>\n",
       "      <td>1</td>\n",
       "      <td>3</td>\n",
       "      <td>8650</td>\n",
       "      <td>8655</td>\n",
       "      <td>Blackburn Rovers</td>\n",
       "      <td>2008/2009</td>\n",
       "      <td>2008-12-06 00:00:00</td>\n",
       "      <td>-2</td>\n",
       "      <td>W</td>\n",
       "    </tr>\n",
       "    <tr>\n",
       "      <th>4</th>\n",
       "      <td>9</td>\n",
       "      <td>1</td>\n",
       "      <td>1</td>\n",
       "      <td>8650</td>\n",
       "      <td>9825</td>\n",
       "      <td>Arsenal</td>\n",
       "      <td>2008/2009</td>\n",
       "      <td>2008-12-21 00:00:00</td>\n",
       "      <td>0</td>\n",
       "      <td>D/T</td>\n",
       "    </tr>\n",
       "  </tbody>\n",
       "</table>\n",
       "</div>"
      ],
      "text/plain": [
       "   index  home_team_goal  away_team_goal  away_team_api_id  home_team_api_id  \\\n",
       "0      0               0               1              8650              8472   \n",
       "1      2               2               1              8650              8586   \n",
       "2      4               0               2              8650              8559   \n",
       "3      7               1               3              8650              8655   \n",
       "4      9               1               1              8650              9825   \n",
       "\n",
       "           home_team     season                 date  goal_difference result  \n",
       "0         Sunderland  2008/2009  2008-08-16 00:00:00               -1      W  \n",
       "1  Tottenham Hotspur  2008/2009  2008-11-01 00:00:00                1      L  \n",
       "2   Bolton Wanderers  2008/2009  2008-11-15 00:00:00               -2      W  \n",
       "3   Blackburn Rovers  2008/2009  2008-12-06 00:00:00               -2      W  \n",
       "4            Arsenal  2008/2009  2008-12-21 00:00:00                0    D/T  "
      ]
     },
     "execution_count": 45,
     "metadata": {},
     "output_type": "execute_result"
    }
   ],
   "source": [
    "l_a_result = []\n",
    "\n",
    "for gd in l_away_games['goal_difference']:\n",
    "    if gd > 0:\n",
    "        l_a_result.append('L')\n",
    "    elif gd < 0:\n",
    "        l_a_result.append('W')\n",
    "    elif gd == 0:\n",
    "        l_a_result.append('D/T')\n",
    "        \n",
    "l_away_games['result'] = l_a_result\n",
    "l_away_games.head()"
   ]
  },
  {
   "cell_type": "markdown",
   "metadata": {},
   "source": [
    "Same thing for the Machester United matches."
   ]
  },
  {
   "cell_type": "code",
   "execution_count": 46,
   "metadata": {},
   "outputs": [],
   "source": [
    "m_h_result = []\n",
    "\n",
    "for gd in m_home_games['goal_difference']:\n",
    "    if gd > 0:\n",
    "        m_h_result.append('W')\n",
    "    elif gd < 0:\n",
    "        m_h_result.append('L')\n",
    "    elif gd == 0:\n",
    "        m_h_result.append('D/T')\n",
    "\n",
    "m_home_games['result'] = m_h_result\n",
    "\n",
    "m_a_result = []\n",
    "\n",
    "for gd in m_away_games['goal_difference']:\n",
    "    if gd > 0:\n",
    "        m_a_result.append('L')\n",
    "    elif gd < 0:\n",
    "        m_a_result.append('W')\n",
    "    elif gd == 0:\n",
    "        m_a_result.append('D/T')\n",
    "        \n",
    "m_away_games['result'] = m_a_result"
   ]
  },
  {
   "cell_type": "markdown",
   "metadata": {},
   "source": [
    "And for the Chelsea matches."
   ]
  },
  {
   "cell_type": "code",
   "execution_count": 47,
   "metadata": {},
   "outputs": [],
   "source": [
    "c_h_result = []\n",
    "\n",
    "for gd in c_home_games['goal_difference']:\n",
    "    if gd > 0:\n",
    "        c_h_result.append('W')\n",
    "    elif gd < 0:\n",
    "        c_h_result.append('L')\n",
    "    elif gd == 0:\n",
    "        c_h_result.append('D/T')\n",
    "\n",
    "c_home_games['result'] = c_h_result\n",
    "\n",
    "c_a_result = []\n",
    "\n",
    "for gd in c_away_games['goal_difference']:\n",
    "    if gd > 0:\n",
    "        c_a_result.append('L')\n",
    "    elif gd < 0:\n",
    "        c_a_result.append('W')\n",
    "    elif gd == 0:\n",
    "        c_a_result.append('D/T')\n",
    "        \n",
    "c_away_games['result'] = c_a_result"
   ]
  },
  {
   "cell_type": "markdown",
   "metadata": {},
   "source": [
    "Excellent. The two sub-dataframes for each team's away and home matches now tells displays the result for the teams of interest. Now, for cleanliness and efficiency sake, the data is merged back into one dataframe with the new columns present to indicate the result for every match, away or home."
   ]
  },
  {
   "cell_type": "code",
   "execution_count": 48,
   "metadata": {},
   "outputs": [
    {
     "data": {
      "text/html": [
       "<div>\n",
       "<style scoped>\n",
       "    .dataframe tbody tr th:only-of-type {\n",
       "        vertical-align: middle;\n",
       "    }\n",
       "\n",
       "    .dataframe tbody tr th {\n",
       "        vertical-align: top;\n",
       "    }\n",
       "\n",
       "    .dataframe thead th {\n",
       "        text-align: right;\n",
       "    }\n",
       "</style>\n",
       "<table border=\"1\" class=\"dataframe\">\n",
       "  <thead>\n",
       "    <tr style=\"text-align: right;\">\n",
       "      <th></th>\n",
       "      <th>index</th>\n",
       "      <th>home_team_goal</th>\n",
       "      <th>away_team_goal</th>\n",
       "      <th>away_team_api_id</th>\n",
       "      <th>home_team_api_id</th>\n",
       "      <th>home_team</th>\n",
       "      <th>season</th>\n",
       "      <th>date</th>\n",
       "      <th>goal_difference</th>\n",
       "      <th>result</th>\n",
       "    </tr>\n",
       "  </thead>\n",
       "  <tbody>\n",
       "    <tr>\n",
       "      <th>0</th>\n",
       "      <td>0</td>\n",
       "      <td>0</td>\n",
       "      <td>1</td>\n",
       "      <td>8650</td>\n",
       "      <td>8472</td>\n",
       "      <td>Sunderland</td>\n",
       "      <td>2008/2009</td>\n",
       "      <td>2008-08-16 00:00:00</td>\n",
       "      <td>-1</td>\n",
       "      <td>W</td>\n",
       "    </tr>\n",
       "    <tr>\n",
       "      <th>6</th>\n",
       "      <td>11</td>\n",
       "      <td>2</td>\n",
       "      <td>1</td>\n",
       "      <td>8549</td>\n",
       "      <td>8650</td>\n",
       "      <td>Liverpool</td>\n",
       "      <td>2008/2009</td>\n",
       "      <td>2008-08-23 00:00:00</td>\n",
       "      <td>1</td>\n",
       "      <td>W</td>\n",
       "    </tr>\n",
       "    <tr>\n",
       "      <th>11</th>\n",
       "      <td>22</td>\n",
       "      <td>0</td>\n",
       "      <td>0</td>\n",
       "      <td>8650</td>\n",
       "      <td>10252</td>\n",
       "      <td>Aston Villa</td>\n",
       "      <td>2008/2009</td>\n",
       "      <td>2008-08-31 00:00:00</td>\n",
       "      <td>0</td>\n",
       "      <td>D/T</td>\n",
       "    </tr>\n",
       "    <tr>\n",
       "      <th>16</th>\n",
       "      <td>32</td>\n",
       "      <td>2</td>\n",
       "      <td>1</td>\n",
       "      <td>10260</td>\n",
       "      <td>8650</td>\n",
       "      <td>Liverpool</td>\n",
       "      <td>2008/2009</td>\n",
       "      <td>2008-09-13 00:00:00</td>\n",
       "      <td>1</td>\n",
       "      <td>W</td>\n",
       "    </tr>\n",
       "    <tr>\n",
       "      <th>17</th>\n",
       "      <td>33</td>\n",
       "      <td>0</td>\n",
       "      <td>0</td>\n",
       "      <td>10194</td>\n",
       "      <td>8650</td>\n",
       "      <td>Liverpool</td>\n",
       "      <td>2008/2009</td>\n",
       "      <td>2008-09-20 00:00:00</td>\n",
       "      <td>0</td>\n",
       "      <td>D/T</td>\n",
       "    </tr>\n",
       "  </tbody>\n",
       "</table>\n",
       "</div>"
      ],
      "text/plain": [
       "    index  home_team_goal  away_team_goal  away_team_api_id  home_team_api_id  \\\n",
       "0       0               0               1              8650              8472   \n",
       "6      11               2               1              8549              8650   \n",
       "11     22               0               0              8650             10252   \n",
       "16     32               2               1             10260              8650   \n",
       "17     33               0               0             10194              8650   \n",
       "\n",
       "      home_team     season                 date  goal_difference result  \n",
       "0    Sunderland  2008/2009  2008-08-16 00:00:00               -1      W  \n",
       "6     Liverpool  2008/2009  2008-08-23 00:00:00                1      W  \n",
       "11  Aston Villa  2008/2009  2008-08-31 00:00:00                0    D/T  \n",
       "16    Liverpool  2008/2009  2008-09-13 00:00:00                1      W  \n",
       "17    Liverpool  2008/2009  2008-09-20 00:00:00                0    D/T  "
      ]
     },
     "execution_count": 48,
     "metadata": {},
     "output_type": "execute_result"
    }
   ],
   "source": [
    "liverpool_results= pd.concat([l_home_games, l_away_games], axis=0)\n",
    "liverpool_results.sort_values('date', axis=0).head()"
   ]
  },
  {
   "cell_type": "code",
   "execution_count": 49,
   "metadata": {},
   "outputs": [],
   "source": [
    "chelsea_results= pd.concat([c_home_games, c_away_games], axis=0)\n",
    "manchester_united_results= pd.concat([m_home_games, m_away_games], axis=0)"
   ]
  },
  {
   "cell_type": "markdown",
   "metadata": {},
   "source": [
    "The data for each team's matches have now been cleaned and updated to include the result of each match. "
   ]
  },
  {
   "cell_type": "code",
   "execution_count": null,
   "metadata": {},
   "outputs": [],
   "source": []
  },
  {
   "cell_type": "code",
   "execution_count": null,
   "metadata": {},
   "outputs": [],
   "source": []
  },
  {
   "cell_type": "code",
   "execution_count": null,
   "metadata": {},
   "outputs": [],
   "source": []
  },
  {
   "cell_type": "markdown",
   "metadata": {},
   "source": [
    "<a id='eda'></a>\n",
    "## Exploratory Data Analysis\n",
    "\n",
    "> **Tip**: Now that you've trimmed and cleaned your data, you're ready to move on to exploration. Compute statistics and create visualizations with the goal of addressing the research questions that you posed in the Introduction section. It is recommended that you be systematic with your approach. Look at one variable at a time, and then follow it up by looking at relationships between variables.\n",
    "\n",
    "### Research Question 1: Which team performed better over the period of time the database examines(2008/09 to 2015/16?"
   ]
  },
  {
   "cell_type": "markdown",
   "metadata": {},
   "source": [
    "First, lets look at the overall results for each season for each team."
   ]
  },
  {
   "cell_type": "code",
   "execution_count": 54,
   "metadata": {},
   "outputs": [],
   "source": [
    "# Use this, and more code cells, to explore your data. Don't forget to add\n",
    "#   Markdown cells to document your observations and findings.\n",
    "liverpool_seasons = pd.crosstab(liverpool_results['season'], liverpool_results['result'])"
   ]
  },
  {
   "cell_type": "code",
   "execution_count": 64,
   "metadata": {},
   "outputs": [],
   "source": [
    "manchester_united_seasons = pd.crosstab(manchester_united_results['season'], manchester_united_results['result'])\n",
    "chelsea_seasons = pd.crosstab(chelsea_results['season'], chelsea_results['result'])"
   ]
  },
  {
   "cell_type": "code",
   "execution_count": 72,
   "metadata": {},
   "outputs": [
    {
     "data": {
      "text/html": [
       "<div>\n",
       "<style scoped>\n",
       "    .dataframe tbody tr th:only-of-type {\n",
       "        vertical-align: middle;\n",
       "    }\n",
       "\n",
       "    .dataframe tbody tr th {\n",
       "        vertical-align: top;\n",
       "    }\n",
       "\n",
       "    .dataframe thead th {\n",
       "        text-align: right;\n",
       "    }\n",
       "</style>\n",
       "<table border=\"1\" class=\"dataframe\">\n",
       "  <thead>\n",
       "    <tr style=\"text-align: right;\">\n",
       "      <th>result</th>\n",
       "      <th>D/T</th>\n",
       "      <th>L</th>\n",
       "      <th>W</th>\n",
       "    </tr>\n",
       "    <tr>\n",
       "      <th>season</th>\n",
       "      <th></th>\n",
       "      <th></th>\n",
       "      <th></th>\n",
       "    </tr>\n",
       "  </thead>\n",
       "  <tbody>\n",
       "    <tr>\n",
       "      <th>2008/2009</th>\n",
       "      <td>11</td>\n",
       "      <td>2</td>\n",
       "      <td>25</td>\n",
       "    </tr>\n",
       "    <tr>\n",
       "      <th>2009/2010</th>\n",
       "      <td>9</td>\n",
       "      <td>11</td>\n",
       "      <td>18</td>\n",
       "    </tr>\n",
       "    <tr>\n",
       "      <th>2010/2011</th>\n",
       "      <td>7</td>\n",
       "      <td>14</td>\n",
       "      <td>17</td>\n",
       "    </tr>\n",
       "    <tr>\n",
       "      <th>2011/2012</th>\n",
       "      <td>10</td>\n",
       "      <td>14</td>\n",
       "      <td>14</td>\n",
       "    </tr>\n",
       "    <tr>\n",
       "      <th>2012/2013</th>\n",
       "      <td>13</td>\n",
       "      <td>9</td>\n",
       "      <td>16</td>\n",
       "    </tr>\n",
       "    <tr>\n",
       "      <th>2013/2014</th>\n",
       "      <td>6</td>\n",
       "      <td>6</td>\n",
       "      <td>26</td>\n",
       "    </tr>\n",
       "    <tr>\n",
       "      <th>2014/2015</th>\n",
       "      <td>8</td>\n",
       "      <td>12</td>\n",
       "      <td>18</td>\n",
       "    </tr>\n",
       "    <tr>\n",
       "      <th>2015/2016</th>\n",
       "      <td>12</td>\n",
       "      <td>10</td>\n",
       "      <td>16</td>\n",
       "    </tr>\n",
       "  </tbody>\n",
       "</table>\n",
       "</div>"
      ],
      "text/plain": [
       "result     D/T   L   W\n",
       "season                \n",
       "2008/2009   11   2  25\n",
       "2009/2010    9  11  18\n",
       "2010/2011    7  14  17\n",
       "2011/2012   10  14  14\n",
       "2012/2013   13   9  16\n",
       "2013/2014    6   6  26\n",
       "2014/2015    8  12  18\n",
       "2015/2016   12  10  16"
      ]
     },
     "execution_count": 72,
     "metadata": {},
     "output_type": "execute_result"
    }
   ],
   "source": [
    "liverpool_seasons"
   ]
  },
  {
   "cell_type": "code",
   "execution_count": 59,
   "metadata": {},
   "outputs": [
    {
     "data": {
      "text/html": [
       "<div>\n",
       "<style scoped>\n",
       "    .dataframe tbody tr th:only-of-type {\n",
       "        vertical-align: middle;\n",
       "    }\n",
       "\n",
       "    .dataframe tbody tr th {\n",
       "        vertical-align: top;\n",
       "    }\n",
       "\n",
       "    .dataframe thead th {\n",
       "        text-align: right;\n",
       "    }\n",
       "</style>\n",
       "<table border=\"1\" class=\"dataframe\">\n",
       "  <thead>\n",
       "    <tr style=\"text-align: right;\">\n",
       "      <th>result</th>\n",
       "      <th>D/T</th>\n",
       "      <th>L</th>\n",
       "      <th>W</th>\n",
       "    </tr>\n",
       "    <tr>\n",
       "      <th>season</th>\n",
       "      <th></th>\n",
       "      <th></th>\n",
       "      <th></th>\n",
       "    </tr>\n",
       "  </thead>\n",
       "  <tbody>\n",
       "    <tr>\n",
       "      <th>2008/2009</th>\n",
       "      <td>6</td>\n",
       "      <td>4</td>\n",
       "      <td>28</td>\n",
       "    </tr>\n",
       "    <tr>\n",
       "      <th>2009/2010</th>\n",
       "      <td>4</td>\n",
       "      <td>7</td>\n",
       "      <td>27</td>\n",
       "    </tr>\n",
       "    <tr>\n",
       "      <th>2010/2011</th>\n",
       "      <td>11</td>\n",
       "      <td>4</td>\n",
       "      <td>23</td>\n",
       "    </tr>\n",
       "    <tr>\n",
       "      <th>2011/2012</th>\n",
       "      <td>5</td>\n",
       "      <td>5</td>\n",
       "      <td>28</td>\n",
       "    </tr>\n",
       "    <tr>\n",
       "      <th>2012/2013</th>\n",
       "      <td>5</td>\n",
       "      <td>5</td>\n",
       "      <td>28</td>\n",
       "    </tr>\n",
       "    <tr>\n",
       "      <th>2013/2014</th>\n",
       "      <td>7</td>\n",
       "      <td>12</td>\n",
       "      <td>19</td>\n",
       "    </tr>\n",
       "    <tr>\n",
       "      <th>2014/2015</th>\n",
       "      <td>10</td>\n",
       "      <td>8</td>\n",
       "      <td>20</td>\n",
       "    </tr>\n",
       "    <tr>\n",
       "      <th>2015/2016</th>\n",
       "      <td>9</td>\n",
       "      <td>10</td>\n",
       "      <td>19</td>\n",
       "    </tr>\n",
       "  </tbody>\n",
       "</table>\n",
       "</div>"
      ],
      "text/plain": [
       "result     D/T   L   W\n",
       "season                \n",
       "2008/2009    6   4  28\n",
       "2009/2010    4   7  27\n",
       "2010/2011   11   4  23\n",
       "2011/2012    5   5  28\n",
       "2012/2013    5   5  28\n",
       "2013/2014    7  12  19\n",
       "2014/2015   10   8  20\n",
       "2015/2016    9  10  19"
      ]
     },
     "execution_count": 59,
     "metadata": {},
     "output_type": "execute_result"
    }
   ],
   "source": [
    "manchester_united_seasons"
   ]
  },
  {
   "cell_type": "code",
   "execution_count": 60,
   "metadata": {
    "scrolled": false
   },
   "outputs": [
    {
     "data": {
      "text/html": [
       "<div>\n",
       "<style scoped>\n",
       "    .dataframe tbody tr th:only-of-type {\n",
       "        vertical-align: middle;\n",
       "    }\n",
       "\n",
       "    .dataframe tbody tr th {\n",
       "        vertical-align: top;\n",
       "    }\n",
       "\n",
       "    .dataframe thead th {\n",
       "        text-align: right;\n",
       "    }\n",
       "</style>\n",
       "<table border=\"1\" class=\"dataframe\">\n",
       "  <thead>\n",
       "    <tr style=\"text-align: right;\">\n",
       "      <th>result</th>\n",
       "      <th>D/T</th>\n",
       "      <th>L</th>\n",
       "      <th>W</th>\n",
       "    </tr>\n",
       "    <tr>\n",
       "      <th>season</th>\n",
       "      <th></th>\n",
       "      <th></th>\n",
       "      <th></th>\n",
       "    </tr>\n",
       "  </thead>\n",
       "  <tbody>\n",
       "    <tr>\n",
       "      <th>2008/2009</th>\n",
       "      <td>8</td>\n",
       "      <td>5</td>\n",
       "      <td>25</td>\n",
       "    </tr>\n",
       "    <tr>\n",
       "      <th>2009/2010</th>\n",
       "      <td>5</td>\n",
       "      <td>6</td>\n",
       "      <td>27</td>\n",
       "    </tr>\n",
       "    <tr>\n",
       "      <th>2010/2011</th>\n",
       "      <td>8</td>\n",
       "      <td>9</td>\n",
       "      <td>21</td>\n",
       "    </tr>\n",
       "    <tr>\n",
       "      <th>2011/2012</th>\n",
       "      <td>10</td>\n",
       "      <td>10</td>\n",
       "      <td>18</td>\n",
       "    </tr>\n",
       "    <tr>\n",
       "      <th>2012/2013</th>\n",
       "      <td>9</td>\n",
       "      <td>7</td>\n",
       "      <td>22</td>\n",
       "    </tr>\n",
       "    <tr>\n",
       "      <th>2013/2014</th>\n",
       "      <td>7</td>\n",
       "      <td>6</td>\n",
       "      <td>25</td>\n",
       "    </tr>\n",
       "    <tr>\n",
       "      <th>2014/2015</th>\n",
       "      <td>9</td>\n",
       "      <td>3</td>\n",
       "      <td>26</td>\n",
       "    </tr>\n",
       "    <tr>\n",
       "      <th>2015/2016</th>\n",
       "      <td>14</td>\n",
       "      <td>12</td>\n",
       "      <td>12</td>\n",
       "    </tr>\n",
       "  </tbody>\n",
       "</table>\n",
       "</div>"
      ],
      "text/plain": [
       "result     D/T   L   W\n",
       "season                \n",
       "2008/2009    8   5  25\n",
       "2009/2010    5   6  27\n",
       "2010/2011    8   9  21\n",
       "2011/2012   10  10  18\n",
       "2012/2013    9   7  22\n",
       "2013/2014    7   6  25\n",
       "2014/2015    9   3  26\n",
       "2015/2016   14  12  12"
      ]
     },
     "execution_count": 60,
     "metadata": {},
     "output_type": "execute_result"
    }
   ],
   "source": [
    "chelsea_seasons"
   ]
  },
  {
   "cell_type": "markdown",
   "metadata": {},
   "source": [
    "Now, it is fairly clear from a glance at each team's record that Chelsea and Manchester United outperformed liverpool, but how consistently? Which of these teams regularly won half or more of their games each season?"
   ]
  },
  {
   "cell_type": "code",
   "execution_count": 144,
   "metadata": {
    "scrolled": true
   },
   "outputs": [
    {
     "data": {
      "text/plain": [
       "season\n",
       "2008/2009     True\n",
       "2009/2010    False\n",
       "2010/2011    False\n",
       "2011/2012    False\n",
       "2012/2013    False\n",
       "2013/2014     True\n",
       "2014/2015    False\n",
       "2015/2016    False\n",
       "Name: W, dtype: bool"
      ]
     },
     "execution_count": 144,
     "metadata": {},
     "output_type": "execute_result"
    }
   ],
   "source": [
    "liverpool_seasons.groupby('season')['W'].sum() >= 19"
   ]
  },
  {
   "cell_type": "code",
   "execution_count": 145,
   "metadata": {},
   "outputs": [
    {
     "data": {
      "text/plain": [
       "season\n",
       "2008/2009     True\n",
       "2009/2010     True\n",
       "2010/2011     True\n",
       "2011/2012    False\n",
       "2012/2013     True\n",
       "2013/2014     True\n",
       "2014/2015     True\n",
       "2015/2016    False\n",
       "Name: W, dtype: bool"
      ]
     },
     "execution_count": 145,
     "metadata": {},
     "output_type": "execute_result"
    }
   ],
   "source": [
    "chelsea_seasons.groupby('season')['W'].sum() >= 19"
   ]
  },
  {
   "cell_type": "code",
   "execution_count": 146,
   "metadata": {
    "scrolled": false
   },
   "outputs": [
    {
     "data": {
      "text/plain": [
       "season\n",
       "2008/2009    True\n",
       "2009/2010    True\n",
       "2010/2011    True\n",
       "2011/2012    True\n",
       "2012/2013    True\n",
       "2013/2014    True\n",
       "2014/2015    True\n",
       "2015/2016    True\n",
       "Name: W, dtype: bool"
      ]
     },
     "execution_count": 146,
     "metadata": {},
     "output_type": "execute_result"
    }
   ],
   "source": [
    "manchester_united_seasons.groupby('season')['W'].sum() >= 19"
   ]
  },
  {
   "cell_type": "markdown",
   "metadata": {},
   "source": [
    "Wow! Over those 8 seasons Liverpool only won 19 or more matches two times! Meanwhile, Chelsea did it 6/8 seasons and United accomplished it every season! The image is clearing up and it does not look good for Liverpool. Though, a visual examination of the number of wins will truly put this information the proper perspective."
   ]
  },
  {
   "cell_type": "code",
   "execution_count": 303,
   "metadata": {
    "scrolled": true
   },
   "outputs": [
    {
     "data": {
      "image/png": "[encoded data removed]",
      "text/plain": [
       "<Figure size 720x360 with 1 Axes>"
      ]
     },
     "metadata": {
      "needs_background": "light"
     },
     "output_type": "display_data"
    }
   ],
   "source": [
    "fig, ax = plt.subplots(figsize=(10,5))\n",
    "width = 0.25\n",
    "season = ['08/09', '09/10', '10/11', '11/12', '12/13', '13/14', '14/15', '15/16']\n",
    "\n",
    "liverpool_wins = liverpool_seasons.groupby('season')['W'].sum().reset_index()\n",
    "lfc_wins = liverpool_wins['W']\n",
    "lfc_wins.name = 'Liverpool Wins'\n",
    "united_wins = manchester_united_seasons.groupby('season')['W'].sum().reset_index()\n",
    "man_u_wins = united_wins['W']\n",
    "man_u_wins.name = 'Manchester United Wins'\n",
    "chelsea_wins = chelsea_seasons.groupby('season')['W'].sum().reset_index()\n",
    "cfc_wins = chelsea_wins['W']\n",
    "cfc_wins.name = 'Chelsea Wins'\n",
    "\n",
    "wins = pd.concat([lfc_wins, man_u_wins, cfc_wins], axis=1)\n",
    "\n",
    "title = ax.set_title(\"\\n\".join(wrap(\"Annual win totals for Chelsea, Liverpool, and Manchester United from 2008/09 to 2015/16\", 60)))\n",
    "\n",
    "wins.plot.bar(width=width, ax=ax, color=('red', 'black', 'yellow'), use_index=True).grid(b=True, which='both', axis='both', color='gray')\n",
    "\n",
    "\n",
    "ax.legend(['Liverpool Wins', 'Manchester United Wins', 'Chelsea Wins'], loc=8)\n",
    "\n",
    "ax.annotate('United Max Wins - 28',\n",
    "           xy=(0, 28), xycoords='data',\n",
    "            xytext=(30, 2), textcoords='offset points',\n",
    "           arrowprops=dict(arrowstyle=\"->\", color='blue'))\n",
    "ax.annotate('CFC Max Wins - 27',\n",
    "           xy=(1.1, 27), xycoords='data',\n",
    "            xytext=(25, 0), textcoords='offset points',\n",
    "           arrowprops=dict(arrowstyle=\"->\", color='blue'))\n",
    "ax.annotate('LFC Max Wins - 26',\n",
    "           xy=(4.9, 26), xycoords='data',\n",
    "            xytext=(-60, 20), textcoords='offset points',\n",
    "           arrowprops=dict(arrowstyle=\"->\", color='blue'))\n",
    "ax.annotate('United Min Wins - 19',\n",
    "           xy=(7, 19), xycoords='data',\n",
    "            xytext=(-77, 80), textcoords='offset points',\n",
    "           arrowprops=dict(arrowstyle=\"->\", color='blue'))\n",
    "ax.annotate('CFC Min Wins - 12',\n",
    "           xy=(7.1, 12), xycoords='data',\n",
    "            xytext=(-71, 90), textcoords='offset points',\n",
    "           arrowprops=dict(arrowstyle=\"->\", color='blue'))\n",
    "ax.annotate('LFC Min Wins - 14',\n",
    "           xy=(2.9, 14), xycoords='data',\n",
    "            xytext=(-85, 90), textcoords='offset points',\n",
    "           arrowprops=dict(arrowstyle=\"->\", color='blue'))\n",
    "\n",
    "plt.axhline(y=19, color='orange')\n",
    "ax.annotate('19 Wins',\n",
    "           xy=(0.5, 19), xycoords='data',\n",
    "            xytext=(-15, -30), textcoords='offset points',\n",
    "            arrowprops=dict(arrowstyle=\"->\", color='blue'))\n",
    "\n",
    "plt.axhline(y=26, color='green')\n",
    "ax.annotate('26 Wins',\n",
    "           xy=(0.5, 26), xycoords='data',\n",
    "            xytext=(-15, -30), textcoords='offset points',\n",
    "            arrowprops=dict(arrowstyle=\"->\", color='blue'))\n",
    "\n",
    "plt.tick_params(axis='x', which='major', labelsize=8, rotation=45)\n",
    "ax.set_xticklabels(season)\n",
    "ax.set_xlabel('Season')\n",
    "ax.set_ylabel('# of Wins')\n",
    "\n",
    "plt.show()"
   ]
  },
  {
   "cell_type": "code",
   "execution_count": null,
   "metadata": {},
   "outputs": [],
   "source": []
  },
  {
   "cell_type": "code",
   "execution_count": null,
   "metadata": {},
   "outputs": [],
   "source": []
  },
  {
   "cell_type": "code",
   "execution_count": 183,
   "metadata": {
    "collapsed": true
   },
   "outputs": [
    {
     "data": {
      "image/png": "[encoded data removed]",
      "text/plain": [
       "<Figure size 720x360 with 1 Axes>"
      ]
     },
     "metadata": {
      "needs_background": "light"
     },
     "output_type": "display_data"
    }
   ],
   "source": [
    "fig, ax = plt.subplots(figsize=(10,5))\n",
    "width = 0.25\n",
    "ind = np.arange(len(liverpool_seasons))\n",
    "liverpool_wins = liverpool_seasons.groupby('season')['W'].sum()\n",
    "man_u_wins = manchester_united_seasons.groupby('season')['W'].sum()\n",
    "chelsea_wins = chelsea_seasons.groupby('season')['W'].sum()\n",
    "\n",
    "title = ax.set_title(\"\\n\".join(wrap(\"Annual win totals for Chelsea, Liverpool, and Manchester United\", 60)))\n",
    "\n",
    "liverpool_seasons.plot.bar(y=['W'], width=width, ax=ax, color=('red'), use_index=True)\n",
    "\n",
    "manchester_united_seasons.plot.bar(y=['W'], width=width, ax=ax, color=('black'), use_index=True)\n",
    "\n",
    "chelsea_seasons.plot.bar(y=['W'], width=width, ax=ax, color=('yellow'), use_index=True).grid(b=True, which='both', axis='both', color='gray')\n",
    "\n",
    "ax.legend(['Liverpool Wins', 'Manchester United Wins', 'Chelsea Wins'], loc=8)\n",
    "\n",
    "ax.annotate('United Max Wins - 28',\n",
    "           xy=(0, 28), xycoords='data',\n",
    "            xytext=(30, 2), textcoords='offset points',\n",
    "           arrowprops=dict(arrowstyle=\"->\", color='blue'))\n",
    "ax.annotate('CFC Max Wins - 27',\n",
    "           xy=(1, 27), xycoords='data',\n",
    "            xytext=(25, 0), textcoords='offset points',\n",
    "           arrowprops=dict(arrowstyle=\"->\", color='blue'))\n",
    "ax.annotate('LFC Max Wins - 26',\n",
    "           xy=(5, 26), xycoords='data',\n",
    "            xytext=(-60, 20), textcoords='offset points',\n",
    "           arrowprops=dict(arrowstyle=\"->\", color='blue'))\n",
    "ax.annotate('United Min Wins - 19',\n",
    "           xy=(7, 19), xycoords='data',\n",
    "            xytext=(-90, 120), textcoords='offset points',\n",
    "           arrowprops=dict(arrowstyle=\"->\", color='blue'))\n",
    "ax.annotate('CFC Min Wins - 12',\n",
    "           xy=(7, 12), xycoords='data',\n",
    "            xytext=(-130, 15), textcoords='offset points',\n",
    "           arrowprops=dict(arrowstyle=\"->\", color='blue'))\n",
    "ax.annotate('LFC Min Wins - 14',\n",
    "           xy=(3, 14), xycoords='data',\n",
    "            xytext=(30, -25), textcoords='offset points',\n",
    "           arrowprops=dict(arrowstyle=\"->\", color='blue'))\n",
    "\n",
    "plt.axhline(y=19, color='orange')\n",
    "ax.annotate('19 Wins',\n",
    "           xy=(0, 19), xycoords='data',\n",
    "            xytext=(12, -30), textcoords='offset points',\n",
    "            arrowprops=dict(arrowstyle=\"->\", color='blue'))\n",
    "\n",
    "plt.axhline(y=26, color='green')\n",
    "ax.annotate('26 Wins',\n",
    "           xy=(0, 26), xycoords='data',\n",
    "            xytext=(12, -30), textcoords='offset points',\n",
    "            arrowprops=dict(arrowstyle=\"->\", color='blue'))\n",
    "\n",
    "plt.tick_params(axis='x', which='major', labelsize=8, rotation=45)\n",
    "ax.set_xlabel('Season')\n",
    "ax.set_ylabel('# of Wins')\n",
    "\n",
    "plt.show()"
   ]
  },
  {
   "cell_type": "markdown",
   "metadata": {},
   "source": [
    "All of the preceding wrangling, cleaning, and analyzing results in this graph which details the total wins(generally a good indicator of the success of a season) for Liverpool, Chelsea, and Manchester United. The graph does not paint a pretty picture for Liverpool. The chart clearly shows how Chelsea and especially Manchester United were substantially more consistent and successful during this time period. \n",
    "\n",
    "Now this data was not available from the database, but it should be noted that Manchester United won the league in 2008-09, 2010-11, and 2012-13 and Chelsea won the league in 2009-10 and 2014-15. Winning the the league is more complicated than win totals alone, as seen in 2009-10 when Chelsea and United won the same number of games, but Chelsea won the league. However, it does help to frame a season as a success or failure. Suffice to say Liverpool did not perform nearly as well as two of its main rivals during the database time period of 08/09-15/16."
   ]
  },
  {
   "cell_type": "markdown",
   "metadata": {},
   "source": [
    "### Research Question 2: Who was annually rated higher by FIFA, Steven Gerrard or Frank Lampard?"
   ]
  },
  {
   "cell_type": "code",
   "execution_count": null,
   "metadata": {
    "collapsed": true
   },
   "outputs": [],
   "source": [
    "# Continue to explore the data to address your additional research\n",
    "#   questions. Add more headers as needed if you have more questions to\n",
    "#   investigate.\n"
   ]
  },
  {
   "cell_type": "markdown",
   "metadata": {},
   "source": [
    "<a id='conclusions'></a>\n",
    "## Conclusions\n",
    "\n",
    "> **Tip**: Finally, summarize your findings and the results that have been performed. Make sure that you are clear with regards to the limitations of your exploration. If you haven't done any statistical tests, do not imply any statistical conclusions. And make sure you avoid implying causation from correlation!\n",
    "\n",
    "> **Tip**: Once you are satisfied with your work, you should save a copy of the report in HTML or PDF form via the **File** > **Download as** submenu. Before exporting your report, check over it to make sure that the flow of the report is complete. You should probably remove all of the \"Tip\" quotes like this one so that the presentation is as tidy as possible. Congratulations!"
   ]
  },
  {
   "cell_type": "code",
   "execution_count": null,
   "metadata": {
    "collapsed": true
   },
   "outputs": [],
   "source": []
  }
 ],
 "metadata": {
  "kernelspec": {
   "display_name": "Python 3",
   "language": "python",
   "name": "python3"
  },
  "language_info": {
   "codemirror_mode": {
    "name": "ipython",
    "version": 3
   },
   "file_extension": ".py",
   "mimetype": "text/x-python",
   "name": "python",
   "nbconvert_exporter": "python",
   "pygments_lexer": "ipython3",
   "version": "3.7.7"
  }
 },
 "nbformat": 4,
 "nbformat_minor": 2
}
